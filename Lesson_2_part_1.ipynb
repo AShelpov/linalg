{
 "cells": [
  {
   "cell_type": "code",
   "execution_count": 1,
   "metadata": {},
   "outputs": [],
   "source": [
    "import numpy as np"
   ]
  },
  {
   "cell_type": "markdown",
   "metadata": {},
   "source": [
    "__2.__ Найти сумму и произведение матриц $A=\\begin{pmatrix}\n",
    "1 & -2\\\\ \n",
    "3 & 0\n",
    "\\end{pmatrix}$ и $B=\\begin{pmatrix}\n",
    "4 & -1\\\\ \n",
    "0 & 5\n",
    "\\end{pmatrix}.$"
   ]
  },
  {
   "cell_type": "code",
   "execution_count": 2,
   "metadata": {},
   "outputs": [],
   "source": [
    "A = np.array([[1, -2], [3, 0]])\n",
    "B = np.array([[4, -1], [0, 5]])"
   ]
  },
  {
   "cell_type": "code",
   "execution_count": 3,
   "metadata": {},
   "outputs": [
    {
     "data": {
      "text/plain": [
       "array([[ 5, -3],\n",
       "       [ 3,  5]])"
      ]
     },
     "execution_count": 3,
     "metadata": {},
     "output_type": "execute_result"
    }
   ],
   "source": [
    "A + B"
   ]
  },
  {
   "cell_type": "code",
   "execution_count": 4,
   "metadata": {},
   "outputs": [
    {
     "data": {
      "text/plain": [
       "array([[  4, -11],\n",
       "       [ 12,  -3]])"
      ]
     },
     "execution_count": 4,
     "metadata": {},
     "output_type": "execute_result"
    }
   ],
   "source": [
    "A.dot(B)"
   ]
  },
  {
   "cell_type": "code",
   "execution_count": 5,
   "metadata": {},
   "outputs": [
    {
     "data": {
      "text/plain": [
       "array([[ 1, -8],\n",
       "       [15,  0]])"
      ]
     },
     "execution_count": 5,
     "metadata": {},
     "output_type": "execute_result"
    }
   ],
   "source": [
    "B.dot(A)"
   ]
  },
  {
   "cell_type": "markdown",
   "metadata": {},
   "source": [
    "__3.__ Из закономерностей сложения и умножения матриц на число можно сделать вывод, что матрицы одного размера образуют линейное пространство. Вычислить линейную комбинацию $3A-2B+4C$ для матриц $A=\\begin{pmatrix}\n",
    "1 & 7\\\\ \n",
    "3 & -6\n",
    "\\end{pmatrix}$, $B=\\begin{pmatrix}\n",
    "0 & 5\\\\ \n",
    "2 & -1\n",
    "\\end{pmatrix}$, $C=\\begin{pmatrix}\n",
    "2 & -4\\\\ \n",
    "1 & 1\n",
    "\\end{pmatrix}.$"
   ]
  },
  {
   "cell_type": "code",
   "execution_count": 6,
   "metadata": {},
   "outputs": [],
   "source": [
    "A = np.array([[1, 7], [3, -6]])\n",
    "B = np.array([[0, 5], [2, -1]])\n",
    "C = np.array([[2, -4], [1, 1]])"
   ]
  },
  {
   "cell_type": "code",
   "execution_count": 7,
   "metadata": {},
   "outputs": [
    {
     "data": {
      "text/plain": [
       "array([[ 11,  -5],\n",
       "       [  9, -12]])"
      ]
     },
     "execution_count": 7,
     "metadata": {},
     "output_type": "execute_result"
    }
   ],
   "source": [
    "3 * A - 2 * B + 4 * C"
   ]
  },
  {
   "cell_type": "markdown",
   "metadata": {},
   "source": [
    "__4.__ Дана матрица $A=\\begin{pmatrix}\n",
    "4 & 1\\\\ \n",
    "5 & -2\\\\ \n",
    "2 & 3\n",
    "\\end{pmatrix}$.\n",
    "Вычислить $AA^{T}$ и $A^{T}A$."
   ]
  },
  {
   "cell_type": "code",
   "execution_count": 8,
   "metadata": {},
   "outputs": [],
   "source": [
    "A = np.array([[4, 1], [5, -2], [2, 3]])"
   ]
  },
  {
   "cell_type": "code",
   "execution_count": 9,
   "metadata": {},
   "outputs": [
    {
     "data": {
      "text/plain": [
       "array([[17, 18, 11],\n",
       "       [18, 29,  4],\n",
       "       [11,  4, 13]])"
      ]
     },
     "execution_count": 9,
     "metadata": {},
     "output_type": "execute_result"
    }
   ],
   "source": [
    "A.dot(A.T)"
   ]
  },
  {
   "cell_type": "code",
   "execution_count": 10,
   "metadata": {},
   "outputs": [
    {
     "data": {
      "text/plain": [
       "array([[45,  0],\n",
       "       [ 0, 14]])"
      ]
     },
     "execution_count": 10,
     "metadata": {},
     "output_type": "execute_result"
    }
   ],
   "source": [
    "A.T.dot(A)"
   ]
  },
  {
   "cell_type": "markdown",
   "metadata": {},
   "source": [
    "\n",
    "__5*.__ Написать на Python функцию для перемножения двух произвольных матриц, не используя NumPy."
   ]
  },
  {
   "cell_type": "code",
   "execution_count": 15,
   "metadata": {},
   "outputs": [],
   "source": [
    "\n",
    "class MyMatrix:\n",
    "    def __init__(self, data):\n",
    "        self.__data = data\n",
    "        self.__check_input_type__()\n",
    "        self.__m = self.__calc_dimensions__()[0]\n",
    "        self.__n = self.__calc_dimensions__()[1]\n",
    "        self.__chek_consistency__()\n",
    "        self.__check_numbers__()\n",
    "\n",
    "    def __calc_dimensions__(self):\n",
    "        m = len(self.__data)\n",
    "        n = len(self.__data[0])\n",
    "        return m, n\n",
    "\n",
    "    def __check_numbers__(self):\n",
    "        for i in range(self.__m):\n",
    "            for j in range(self.__n):\n",
    "                if not isinstance(self.__data[i][j], (int, float)):\n",
    "                    raise ValueError(f\"Element in index[{i}][{j}] is not number\")\n",
    "\n",
    "    def __chek_consistency__(self):\n",
    "        for i in range(self.__m):\n",
    "            if len(self.__data[i]) != self.__n:\n",
    "                raise IndexError(f\"Wrong length of line {i} in matrix\")\n",
    "\n",
    "    def __check_input_type__(self):\n",
    "        if not isinstance(self.__data, (list, tuple)):\n",
    "            raise TypeError(\"Wrong input data, must be list of list or tuple of tuple or shuffled\")\n",
    "        for line in self.__data:\n",
    "            if not isinstance(line, (list, tuple)):\n",
    "                raise TypeError(\"Wrong input data, must be list of list or tuple of tuple or shuffled\")\n",
    "\n",
    "    def __str__(self):\n",
    "        return self.data\n",
    "    \n",
    "    @property\n",
    "    def data(self):\n",
    "        out = str()\n",
    "        for i in range(self.__m):\n",
    "            out += str(self.__data[i])\n",
    "            out += \"\\n\"\n",
    "        return out\n",
    "\n",
    "    @property\n",
    "    def shape(self):\n",
    "        return self.__m, self.__n\n",
    "    \n",
    "    def dot(self, matrix):\n",
    "        if not isinstance(matrix, MyMatrix):\n",
    "            raise TypeError(\"Other matrix must be instance of MyMatrix class\")\n",
    "        if self.__n != matrix.shape[0]:\n",
    "            raise IndexError(\"Can't multiply such matrixes\")\n",
    "        out = [[None for n in range(matrix.__n)] for m in range(self.__m)]\n",
    "        for line in self.__data:\n",
    "            for elem in line:\n",
    "            "
   ]
  },
  {
   "cell_type": "code",
   "execution_count": 16,
   "metadata": {},
   "outputs": [],
   "source": [
    "A = MyMatrix([[1, 2], [3, 4]])\n",
    "B = MyMatrix([[1, 2, 3], [3, 4, 5], [3, 4, 5]])\n"
   ]
  },
  {
   "cell_type": "code",
   "execution_count": 18,
   "metadata": {},
   "outputs": [
    {
     "name": "stdout",
     "output_type": "stream",
     "text": [
      "[1, 2, 3]\n",
      "[3, 4, 5]\n",
      "[3, 4, 5]\n",
      "\n"
     ]
    }
   ],
   "source": [
    "print(B)"
   ]
  },
  {
   "cell_type": "code",
   "execution_count": null,
   "metadata": {},
   "outputs": [],
   "source": []
  }
 ],
 "metadata": {
  "kernelspec": {
   "display_name": "Python 3",
   "language": "python",
   "name": "python3"
  },
  "language_info": {
   "codemirror_mode": {
    "name": "ipython",
    "version": 3
   },
   "file_extension": ".py",
   "mimetype": "text/x-python",
   "name": "python",
   "nbconvert_exporter": "python",
   "pygments_lexer": "ipython3",
   "version": "3.8.5"
  }
 },
 "nbformat": 4,
 "nbformat_minor": 4
}
